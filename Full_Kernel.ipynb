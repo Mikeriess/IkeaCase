{
 "cells": [
  {
   "cell_type": "markdown",
   "metadata": {},
   "source": [
    "<h1>Load dependencies</h1>"
   ]
  },
  {
   "cell_type": "code",
   "execution_count": 1,
   "metadata": {},
   "outputs": [
    {
     "name": "stderr",
     "output_type": "stream",
     "text": [
      "Using TensorFlow backend.\n"
     ]
    }
   ],
   "source": [
    "from math import sqrt\n",
    "from numpy import concatenate\n",
    "from matplotlib import pyplot\n",
    "from pandas import read_csv\n",
    "from pandas import DataFrame\n",
    "from pandas import concat\n",
    "from sklearn.preprocessing import MinMaxScaler\n",
    "from sklearn.preprocessing import LabelEncoder\n",
    "from sklearn.metrics import mean_squared_error\n",
    "from keras.models import Sequential\n",
    "from keras.layers import Dense\n",
    "from keras.layers import LSTM\n",
    "import math\n",
    "import numpy as np\n",
    "import pandas as pd"
   ]
  },
  {
   "cell_type": "code",
   "execution_count": 2,
   "metadata": {},
   "outputs": [
    {
     "data": {
      "image/png": "[encoded data removed]",
      "text/plain": [
       "<matplotlib.figure.Figure at 0x11e558810>"
      ]
     },
     "metadata": {},
     "output_type": "display_data"
    }
   ],
   "source": [
    "###############################################################################\n",
    "# Explore data\n",
    "###############################################################################\n",
    "\n",
    "outputfile='/Users/mikeriess/Desktop/Ikea_Case/SimulatedData.csv'\n",
    "\n",
    "\n",
    "from matplotlib import pyplot\n",
    "# load dataset\n",
    "dataset = read_csv(outputfile, header=0, index_col=0)\n",
    "values = dataset.values\n",
    "# specify columns to plot\n",
    "groups = [1]\n",
    "i = 1\n",
    "\n",
    "\n",
    "# plot each column\n",
    "pyplot.figure()\n",
    "for group in groups:\n",
    "\tpyplot.subplot(len(groups), 1, i)\n",
    "\tpyplot.plot(values[:, group])\n",
    "\tpyplot.title(dataset.columns[group], y=0.5, loc='right')\n",
    "\ti += 1\n",
    "pyplot.show()"
   ]
  },
  {
   "cell_type": "code",
   "execution_count": 3,
   "metadata": {
    "collapsed": true
   },
   "outputs": [],
   "source": [
    "###############################################################################\n",
    "# Function for data tranformation\n",
    "###############################################################################\n",
    " \n",
    "# convert series to supervised learning\n",
    "def series_to_supervised(data, n_in=1, n_out=1, dropnan=True):\n",
    "\tn_vars = 1 if type(data) is list else data.shape[1]\n",
    "\tdf = DataFrame(data)\n",
    "\tcols, names = list(), list()\n",
    "\t# input sequence (t-n, ... t-1)\n",
    "\tfor i in range(n_in, 0, -1):\n",
    "\t\tcols.append(df.shift(i))\n",
    "\t\tnames += [('var%d(t-%d)' % (j+1, i)) for j in range(n_vars)]\n",
    "\t# forecast sequence (t, t+1, ... t+n)\n",
    "\tfor i in range(0, n_out):\n",
    "\t\tcols.append(df.shift(-i))\n",
    "\t\tif i == 0:\n",
    "\t\t\tnames += [('var%d(t)' % (j+1)) for j in range(n_vars)]\n",
    "\t\telse:\n",
    "\t\t\tnames += [('var%d(t+%d)' % (j+1, i)) for j in range(n_vars)]\n",
    "\t# put it all together\n",
    "\tagg = concat(cols, axis=1)\n",
    "\tagg.columns = names\n",
    "\t# drop rows with NaN values\n",
    "\tif dropnan:\n",
    "\t\tagg.dropna(inplace=True)\n",
    "\treturn agg"
   ]
  },
  {
   "cell_type": "code",
   "execution_count": 4,
   "metadata": {
    "collapsed": true
   },
   "outputs": [],
   "source": [
    "###############################################################################\n",
    "# Data prep\n",
    "###############################################################################    \n",
    "\n",
    "\"\"\"\n",
    "Predict the next 2 hours based on demand the current day.\n",
    "\n",
    "=> This should be defined by the business problem; Staffing plan.\n",
    "    => Objective is to minimize ques.\n",
    "        => Assume that some workers can be sent home during the day (?)  \n",
    "\"\"\"\n",
    "\n",
    "# load dataset\n",
    "dataset = read_csv('/Users/mikeriess/Desktop/Ikea_Case/SimulatedData.csv', header=0, index_col=0)#dataset = dataset.drop('Weekday', 1)\n",
    "#print(dataset.head())\n",
    "just_dummies = pd.get_dummies(dataset['Weekday'])\n",
    "\n",
    "dataset = pd.concat([dataset, just_dummies], axis=1)      \n",
    "dataset.drop(['Weekday'], inplace=True, axis=1)\n",
    "\n",
    "#print(dataset.head())"
   ]
  },
  {
   "cell_type": "code",
   "execution_count": 5,
   "metadata": {
    "collapsed": true
   },
   "outputs": [],
   "source": [
    "values = dataset.values\n",
    "#print(values[:10])\n",
    "\n",
    "# integer encode direction\n",
    "encoder = LabelEncoder()\n",
    "values[:,0] = encoder.fit_transform(values[:,0]) #TARGET VARIABLE\n",
    "\n",
    "# ensure all data is float\n",
    "values = values.astype('float32')\n",
    "\n",
    "#dataset.head()"
   ]
  },
  {
   "cell_type": "code",
   "execution_count": 6,
   "metadata": {
    "collapsed": true
   },
   "outputs": [],
   "source": [
    "X = dataset[\"Arrivals\"]\n",
    "X_std = (X - X.min(axis=0)) / (X.max(axis=0) - X.min(axis=0))\n",
    "#print(X_std)\n",
    "X_scaled = X_std * (1 - 0) + 0\n",
    "#print(X_scaled)"
   ]
  },
  {
   "cell_type": "code",
   "execution_count": 7,
   "metadata": {},
   "outputs": [
    {
     "name": "stdout",
     "output_type": "stream",
     "text": [
      "          column       maxi      mini\n",
      "0       Interval  60.000000  1.000000\n",
      "1       Arrivals  15.000000  0.000000\n",
      "2  Checkouttimes  17.571827  0.191915\n",
      "3         Fredag   1.000000  0.000000\n",
      "4         Lørdag   1.000000  0.000000\n",
      "            Interval  Arrivals  Checkouttimes  Fredag  Lørdag  Mandag  Onsdag  \\\n",
      "Date                                                                            \n",
      "2016-01-01  0.000000  0.266667       0.226284     1.0     0.0     0.0     0.0   \n",
      "2016-01-01  0.000000  0.266667       0.160618     1.0     0.0     0.0     0.0   \n",
      "2016-01-01  0.000000  0.266667       0.143165     1.0     0.0     0.0     0.0   \n",
      "2016-01-01  0.000000  0.266667       0.082163     1.0     0.0     0.0     0.0   \n",
      "2016-01-01  0.016949  0.400000       0.083560     1.0     0.0     0.0     0.0   \n",
      "\n",
      "            Tirsdag  Torsdag  \n",
      "Date                          \n",
      "2016-01-01      0.0      0.0  \n",
      "2016-01-01      0.0      0.0  \n",
      "2016-01-01      0.0      0.0  \n",
      "2016-01-01      0.0      0.0  \n",
      "2016-01-01      0.0      0.0  \n"
     ]
    }
   ],
   "source": [
    "minimas=[]\n",
    "maximas=[]\n",
    "varnames=[]\n",
    "\n",
    "newdata = dataset\n",
    "\n",
    "#X_std = (X - X.min(axis=0)) / (X.max(axis=0) - X.min(axis=0))\n",
    "#X_scaled = X_std * (max - min) + min\n",
    "\n",
    "\n",
    "#RANGE TRANSFORMATION\n",
    "for column in dataset:\n",
    "    #standardize\n",
    "    minima=np.min(dataset[column])\n",
    "    maxima=np.max(dataset[column])\n",
    "    #mean=np.mean(dataset[column])\n",
    "    #sdev=np.std(dataset[column])\n",
    "    \n",
    "    X = dataset[column]\n",
    "    X_std = (X - X.min(axis=0)) / (X.max(axis=0) - X.min(axis=0))\n",
    "    newdata[column] = X_std * (1 - 0) + 0\n",
    "    \n",
    "    #newdata[column]=((dataset[column]-mean)/sdev)* (1 - 0) + 0\n",
    "    \n",
    "    #store the values\n",
    "    minimas.append(minima)\n",
    "    maximas.append(maxima)\n",
    "    varnames.append(column)\n",
    "    #print(np.max(newdata[column]))\n",
    "    \n",
    "#Generate table\n",
    "Transformations = pd.DataFrame(\n",
    "    {'column': varnames,\n",
    "     'mini': minimas,\n",
    "     'maxi': maximas\n",
    "    })\n",
    "print(Transformations.head())\n",
    "print(newdata.head())"
   ]
  },
  {
   "cell_type": "code",
   "execution_count": 8,
   "metadata": {},
   "outputs": [
    {
     "name": "stdout",
     "output_type": "stream",
     "text": [
      "   var1(t-6)  var2(t-6)  var3(t-6)  var4(t-6)  var5(t-6)  var6(t-6)  \\\n",
      "6        0.0   0.266667   0.226284        1.0        0.0        0.0   \n",
      "7        0.0   0.266667   0.160618        1.0        0.0        0.0   \n",
      "\n",
      "   var7(t-6)  var8(t-6)  var9(t-6)  var1(t-5)    ...      var9(t+4)  \\\n",
      "6        0.0        0.0        0.0        0.0    ...            0.0   \n",
      "7        0.0        0.0        0.0        0.0    ...            0.0   \n",
      "\n",
      "   var1(t+5)  var2(t+5)  var3(t+5)  var4(t+5)  var5(t+5)  var6(t+5)  \\\n",
      "6   0.033898   0.466667   0.181895        1.0        0.0        0.0   \n",
      "7   0.033898   0.466667   0.329821        1.0        0.0        0.0   \n",
      "\n",
      "   var7(t+5)  var8(t+5)  var9(t+5)  \n",
      "6        0.0        0.0        0.0  \n",
      "7        0.0        0.0        0.0  \n",
      "\n",
      "[2 rows x 108 columns]\n",
      "38750\n",
      "   var1(t-6)  var2(t-6)  var3(t-6)  var4(t-6)  var5(t-6)  var6(t-6)  \\\n",
      "6        0.0   0.266667   0.226284        1.0        0.0        0.0   \n",
      "7        0.0   0.266667   0.160618        1.0        0.0        0.0   \n",
      "\n",
      "   var7(t-6)  var8(t-6)  var9(t-6)  var1(t-5)    ...      var6(t-1)  \\\n",
      "6        0.0        0.0        0.0        0.0    ...            0.0   \n",
      "7        0.0        0.0        0.0        0.0    ...            0.0   \n",
      "\n",
      "   var7(t-1)  var8(t-1)  var9(t-1)  var2(t)  var2(t+1)  var2(t+2)  var2(t+3)  \\\n",
      "6        0.0        0.0        0.0      0.4        0.4        0.4   0.400000   \n",
      "7        0.0        0.0        0.0      0.4        0.4        0.4   0.466667   \n",
      "\n",
      "   var2(t+4)  var2(t+5)  \n",
      "6   0.466667   0.466667  \n",
      "7   0.466667   0.466667  \n",
      "\n",
      "[2 rows x 60 columns]\n"
     ]
    }
   ],
   "source": [
    "#Normalization procedure\n",
    "scaled = newdata.values\n",
    "\n",
    "# frame as supervised learning: Predict next hour (6X1 obs) using last 6 hours (6X6 obs)\n",
    "reframed = series_to_supervised(scaled, n_in=6, n_out=6, dropnan=True)\n",
    "reframed = pd.DataFrame(reframed)\n",
    "print(reframed[:2])\n",
    "print(len(reframed))\n",
    "\n",
    "# drop columns we don't want to predict => all t+variables which is not the target\n",
    "#Target == var2\n",
    "\n",
    "reframed.drop([\"var1(t+5)\",\"var3(t+5)\",\"var4(t+5)\",\"var5(t+5)\",\"var6(t+5)\",\"var7(t+5)\",\"var8(t+5)\",\"var9(t+5)\",\n",
    "              \"var1(t+4)\",\"var3(t+4)\",\"var4(t+4)\",\"var5(t+4)\",\"var6(t+4)\",\"var7(t+4)\",\"var8(t+4)\",\"var9(t+4)\",\n",
    "              \"var1(t+3)\",\"var3(t+3)\",\"var4(t+3)\",\"var5(t+3)\",\"var6(t+3)\",\"var7(t+3)\",\"var8(t+3)\",\"var9(t+3)\",\n",
    "              \"var1(t+2)\",\"var3(t+2)\",\"var4(t+2)\",\"var5(t+2)\",\"var6(t+2)\",\"var7(t+2)\",\"var8(t+2)\",\"var9(t+2)\",\n",
    "              \"var1(t+1)\",\"var3(t+1)\",\"var4(t+1)\",\"var5(t+1)\",\"var6(t+1)\",\"var7(t+1)\",\"var8(t+1)\",\"var9(t+1)\",\n",
    "              \"var1(t)\",\"var3(t)\",\"var4(t)\",\"var5(t)\",\"var6(t)\",\"var7(t)\",\"var8(t)\",\"var9(t)\"], inplace=True, axis=1)\n",
    "\n",
    "print(reframed[:2])\n",
    "#print(reframed.head())"
   ]
  },
  {
   "cell_type": "code",
   "execution_count": 9,
   "metadata": {
    "collapsed": true
   },
   "outputs": [],
   "source": [
    "# split into train and test sets\n",
    "values = reframed.values\n",
    "n_train_hours = int(np.floor(values.shape[0]/2)) #180*8*6 #half a year, 8 hours a day, 6x10 minutes per hour .... ish\n",
    "\n",
    "train = values[:n_train_hours, :]\n",
    "test = values[n_train_hours:, :]\n",
    "\n",
    "# split into input and outputs\n",
    "train_X, train_y = train[:, :-1], train[:, -1]\n",
    "test_X, test_y = test[:, :-1], test[:, -1]"
   ]
  },
  {
   "cell_type": "code",
   "execution_count": 10,
   "metadata": {},
   "outputs": [
    {
     "name": "stdout",
     "output_type": "stream",
     "text": [
      "((19375, 1, 59), (19375,), (19375, 1, 59), (19375,))\n"
     ]
    }
   ],
   "source": [
    "# reshape input to be 3D [samples, timesteps, features]\n",
    "train_X = train_X.reshape((train_X.shape[0], 1, train_X.shape[1]))\n",
    "test_X = test_X.reshape((test_X.shape[0], 1, test_X.shape[1]))\n",
    "\n",
    "print(train_X.shape, train_y.shape, test_X.shape, test_y.shape)"
   ]
  },
  {
   "cell_type": "markdown",
   "metadata": {},
   "source": [
    "<h2>Train the model:</h2>"
   ]
  },
  {
   "cell_type": "code",
   "execution_count": 11,
   "metadata": {},
   "outputs": [
    {
     "name": "stdout",
     "output_type": "stream",
     "text": [
      "Train on 19375 samples, validate on 19375 samples\n",
      "Epoch 1/20\n",
      "3s - loss: 0.2128 - val_loss: 0.1289\n",
      "Epoch 2/20\n",
      "2s - loss: 0.1184 - val_loss: 0.1123\n",
      "Epoch 3/20\n",
      "2s - loss: 0.1083 - val_loss: 0.1041\n",
      "Epoch 4/20\n",
      "2s - loss: 0.0968 - val_loss: 0.0900\n",
      "Epoch 5/20\n",
      "2s - loss: 0.0839 - val_loss: 0.0759\n",
      "Epoch 6/20\n",
      "2s - loss: 0.0768 - val_loss: 0.0726\n",
      "Epoch 7/20\n",
      "2s - loss: 0.0755 - val_loss: 0.0768\n",
      "Epoch 8/20\n",
      "2s - loss: 0.0700 - val_loss: 0.0648\n",
      "Epoch 9/20\n",
      "2s - loss: 0.0670 - val_loss: 0.0672\n",
      "Epoch 10/20\n",
      "2s - loss: 0.0674 - val_loss: 0.0688\n",
      "Epoch 11/20\n",
      "2s - loss: 0.0644 - val_loss: 0.0603\n",
      "Epoch 12/20\n",
      "2s - loss: 0.0628 - val_loss: 0.0586\n",
      "Epoch 13/20\n",
      "2s - loss: 0.0639 - val_loss: 0.0640\n",
      "Epoch 14/20\n",
      "2s - loss: 0.0610 - val_loss: 0.0595\n",
      "Epoch 15/20\n",
      "2s - loss: 0.0602 - val_loss: 0.0553\n",
      "Epoch 16/20\n",
      "2s - loss: 0.0613 - val_loss: 0.0607\n",
      "Epoch 17/20\n",
      "2s - loss: 0.0584 - val_loss: 0.0572\n",
      "Epoch 18/20\n",
      "2s - loss: 0.0578 - val_loss: 0.0543\n",
      "Epoch 19/20\n",
      "2s - loss: 0.0595 - val_loss: 0.0602\n",
      "Epoch 20/20\n",
      "2s - loss: 0.0569 - val_loss: 0.0543\n"
     ]
    },
    {
     "data": {
      "image/png": "[encoded data removed]",
      "text/plain": [
       "<matplotlib.figure.Figure at 0x11e558e50>"
      ]
     },
     "metadata": {},
     "output_type": "display_data"
    }
   ],
   "source": [
    "###############################################################################\n",
    "# Model design & training\n",
    "###############################################################################\n",
    " \n",
    "# design network\n",
    "model = Sequential()\n",
    "model.add(LSTM(1, input_shape=(train_X.shape[1], train_X.shape[2])))\n",
    "model.add(Dense(1))\n",
    "model.compile(loss='mae', optimizer='adam')\n",
    "\n",
    "# fit network\n",
    "history = model.fit(train_X, train_y, \n",
    "                    epochs=20, \n",
    "                    batch_size=75, \n",
    "                    validation_data=(test_X, test_y), \n",
    "                    verbose=2, \n",
    "                    shuffle=False) #false\n",
    "\n",
    "# plot history\n",
    "pyplot.plot(history.history['loss'], label='train')\n",
    "pyplot.plot(history.history['val_loss'], label='test')\n",
    "pyplot.legend()\n",
    "pyplot.show()"
   ]
  },
  {
   "cell_type": "markdown",
   "metadata": {},
   "source": [
    "<h2>Prediction</h2>"
   ]
  },
  {
   "cell_type": "code",
   "execution_count": 12,
   "metadata": {},
   "outputs": [
    {
     "name": "stdout",
     "output_type": "stream",
     "text": [
      "Yhat=\n",
      "[[ 0.55599433]\n",
      " [ 0.56171978]\n",
      " [ 0.56459928]\n",
      " [ 0.60917372]\n",
      " [ 0.62776649]\n",
      " [ 0.63493603]\n",
      " [ 0.63539702]\n",
      " [ 0.63345391]\n",
      " [ 0.62740791]\n",
      " [ 0.62720543]]\n",
      "y=\n",
      "[ 0.53333333  0.53333333  0.6         0.6         0.6         0.6         0.6\n",
      "  0.6         0.6         0.6       ]\n"
     ]
    }
   ],
   "source": [
    "periods = 2*6 #Predict next 2 hours (6X2 obs) using last 6 hours (6X6 obs)\n",
    "\n",
    "test_prediction = test_X[:periods]\n",
    "\n",
    "# make a prediction\n",
    "yhat = model.predict(test_prediction)\n",
    "\n",
    "# frame as supervised learning\n",
    "y = test_y[:periods]\n",
    "\n",
    "print(\"Yhat=\")\n",
    "print(yhat[:10])\n",
    "print(\"y=\")\n",
    "print(y[:10])"
   ]
  },
  {
   "cell_type": "markdown",
   "metadata": {},
   "source": [
    "<h2>Evaluation: normalized</h2>"
   ]
  },
  {
   "cell_type": "code",
   "execution_count": 15,
   "metadata": {},
   "outputs": [
    {
     "data": {
      "image/png": "[encoded data removed]",
      "text/plain": [
       "<matplotlib.figure.Figure at 0x124d65550>"
      ]
     },
     "metadata": {},
     "output_type": "display_data"
    }
   ],
   "source": [
    "#Plot the first predicted values\n",
    "pyplot.plot(yhat, label=\"Predicted\")\n",
    "pyplot.plot(y, label=\"Actual\")\n",
    "pyplot.legend()\n",
    "pyplot.show()"
   ]
  },
  {
   "cell_type": "code",
   "execution_count": 16,
   "metadata": {
    "collapsed": true
   },
   "outputs": [],
   "source": [
    "#Rescale the numbers back into their real values;\n",
    "\n",
    "#Z BACKTRANSFORM: GENERIC\n",
    "#for index, row in Transformations.iterrows():\n",
    "#    var = row['column']\n",
    "#    mini = row[\"mini\"]\n",
    "#    maxi = row[\"maxi\"]\n",
    "    #back-transform: x = std*z + m\n",
    "#    X = newdata[var]\n",
    "#    X_std = (X - X.min(axis=0)) / (X.max(axis=0) - X.min(axis=0))\n",
    "#    newdata[var] = X_std * (maxi - mini) + mini\n",
    "    \n",
    "#Debugging;\n",
    "#print(dataset.head())\n",
    "#print(newdata.head())"
   ]
  },
  {
   "cell_type": "code",
   "execution_count": 17,
   "metadata": {
    "collapsed": true
   },
   "outputs": [],
   "source": [
    "# Backtransformation for y and yhat\n",
    "\n",
    "Ytrans = Transformations.loc[Transformations['column'] == \"Arrivals\"]\n",
    "\n",
    "#Z BACKTRANSFORM\n",
    "for index, row in Ytrans.iterrows():\n",
    "    mini = row[\"mini\"]\n",
    "    maxi = row[\"maxi\"]\n",
    "    #back-transform:\n",
    "    X = yhat\n",
    "    X_std = (X - X.min(axis=0)) / (X.max(axis=0) - X.min(axis=0))\n",
    "    yhat_new = X_std * (maxi - mini) + mini\n",
    "    \n",
    "    X = y\n",
    "    X_std = (X - X.min(axis=0)) / (X.max(axis=0) - X.min(axis=0))\n",
    "    y_new = X_std * (maxi - mini) + mini\n",
    "\n",
    "#Convert to integer:\n",
    "yhat_new = np.floor(yhat_new)\n",
    "y_new = np.floor(y_new)"
   ]
  },
  {
   "cell_type": "markdown",
   "metadata": {},
   "source": [
    "<h2>Evaluation: Original scale</h2>"
   ]
  },
  {
   "cell_type": "code",
   "execution_count": 18,
   "metadata": {},
   "outputs": [
    {
     "name": "stdout",
     "output_type": "stream",
     "text": [
      "('MSE =', 55.833333333333336)\n",
      "('RMSE =', 7.4721705904866313)\n",
      "('MAE =', 6.708333333333333)\n"
     ]
    },
    {
     "data": {
      "image/png": "[encoded data removed]",
      "text/plain": [
       "<matplotlib.figure.Figure at 0x124d88f10>"
      ]
     },
     "metadata": {},
     "output_type": "display_data"
    }
   ],
   "source": [
    "#Calculating evaluation metrics\n",
    "MSE = np.mean((y_new-yhat_new)**2)\n",
    "print(\"MSE =\",MSE)\n",
    "RMSE = np.sqrt(MSE)\n",
    "print(\"RMSE =\",RMSE)\n",
    "MAE = np.mean(np.abs(y_new-yhat_new))\n",
    "print(\"MAE =\",MAE)\n",
    "\n",
    "pyplot.plot(yhat_new, label=\"Predicted\")\n",
    "pyplot.plot(y_new, label=\"Actual\")\n",
    "pyplot.legend()\n",
    "pyplot.show()"
   ]
  },
  {
   "cell_type": "markdown",
   "metadata": {
    "collapsed": true
   },
   "source": [
    "<h1>Generate staffing plan </h1>\n",
    "This part will now attempt to generate a staffing plan that satisfies the predicted number of customers."
   ]
  },
  {
   "cell_type": "code",
   "execution_count": 19,
   "metadata": {
    "collapsed": true
   },
   "outputs": [],
   "source": [
    "#Load the package\n",
    "from pulp import *\n",
    "#Store the results:\n",
    "import pandas as pd\n",
    "\n",
    "def make_workplan(Expected_customers):\n",
    "\n",
    "    #Load the predicted amount of customers\n",
    "    LSTM_Prediction = Expected_customers\n",
    "    \n",
    "    #Make problem:\n",
    "    prob = LpProblem(\"IKEA_CHECKOUT\",LpMinimize)\n",
    "    \n",
    "    #Setup decision variables\n",
    "    SD1=LpVariable('ServiceDesk1', cat='Binary')\n",
    "    SD2=LpVariable('ServiceDesk2', cat='Binary')\n",
    "    SD3=LpVariable('ServiceDesk3', cat='Binary')\n",
    "    SD4=LpVariable('ServiceDesk4', cat='Binary')\n",
    "    SD5=LpVariable('ServiceDesk5', cat='Binary')\n",
    "    SD6=LpVariable('ServiceDesk6', cat='Binary')\n",
    "    SD7=LpVariable('ServiceDesk7', cat='Binary')\n",
    "    SD8=LpVariable('ServiceDesk8', cat='Binary')\n",
    "    SD9=LpVariable('ServiceDesk9', cat='Binary')\n",
    "    SD910=LpVariable('ServiceDesk910', cat='Binary')\n",
    "    SD911=LpVariable('ServiceDesk911', cat='Binary')\n",
    "    SD912=LpVariable('ServiceDesk912', cat='Binary') \n",
    "    SD913=LpVariable('ServiceDesk913', cat='Binary') \n",
    "    SD914=LpVariable('ServiceDesk914', cat='Binary') \n",
    "    SD915=LpVariable('ServiceDesk915', cat='Binary') #Special desk\n",
    "    \n",
    "    # The objective function: Minimize costs\n",
    "    prob += 20*SD1 + 20*SD2 + 20*SD3 + 20*SD4 + 20*SD5 + 20*SD6 + 20*SD7 + 20*SD8 + 20*SD9 + 20*SD910 + 20*SD911 + 20*SD912 + 20*SD913 + 20*SD914 + 20*SD915, \"Cost per 10 minutes\"\n",
    "\n",
    "    #Subject to; Capacity of each cash-out service desk\n",
    "    prob += 20*SD1 + 20*SD2 + 20*SD3 + 20*SD4 + 20*SD5 + 20*SD6 + 20*SD7 + 20*SD8 + 20*SD9 + 20*SD910 + 20*SD911 + 20*SD912 + 20*SD913 + 20*SD914 + 20*SD915 >= LSTM_Prediction, \"Forecasted_Customers\"\n",
    "    \n",
    "    # The problem data is written to an .lp file\n",
    "    prob.writeLP(\"IKEA_CASHOUT.lp\")\n",
    "    \n",
    "    #Solve\n",
    "    prob.solve()\n",
    "    \n",
    "    # The status of the solution is printed to the screen\n",
    "    print(\"Status:\", LpStatus[prob.status])\n",
    "    \n",
    "    # The optimised objective function value is printed to the screen\n",
    "    print(\"Total labor Cost the next 10 minutes = \", value(prob.objective))\n",
    "    listvar = []\n",
    "    listval = []\n",
    "\n",
    "    for v in prob.variables():\n",
    "        listvar.append(v.name)\n",
    "        listval.append(v.varValue)\n",
    "        print(v.name, \"=\", v.varValue)\n",
    "    \n",
    "    #Store a DF\n",
    "    StaffingPlan = pd.DataFrame(\n",
    "    {'ServiceDesk': listvar,\n",
    "     'Open': listval\n",
    "    })\n",
    "    \n",
    "    StaffingPlan.head()\n",
    "    return(StaffingPlan)"
   ]
  },
  {
   "cell_type": "code",
   "execution_count": 20,
   "metadata": {
    "collapsed": true
   },
   "outputs": [],
   "source": [
    "#Test the function\n",
    "#Test_res = make_workplan(100)\n",
    "#Test_res.head()"
   ]
  },
  {
   "cell_type": "code",
   "execution_count": 21,
   "metadata": {},
   "outputs": [
    {
     "name": "stdout",
     "output_type": "stream",
     "text": [
      "[[  0.]\n",
      " [  1.]\n",
      " [  1.]\n",
      " [ 10.]\n",
      " [ 13.]\n",
      " [ 14.]\n",
      " [ 15.]\n",
      " [ 14.]\n",
      " [ 13.]\n",
      " [ 13.]\n",
      " [ 13.]\n",
      " [ 13.]]\n"
     ]
    }
   ],
   "source": [
    "print(yhat_new[:12])\n"
   ]
  },
  {
   "cell_type": "code",
   "execution_count": 22,
   "metadata": {},
   "outputs": [
    {
     "name": "stdout",
     "output_type": "stream",
     "text": [
      "[ 0.]\n",
      "('Status:', 'Optimal')\n",
      "('Total labor Cost the next 10 minutes = ', 0.0)\n",
      "('ServiceDesk1', '=', 0.0)\n",
      "('ServiceDesk2', '=', 0.0)\n",
      "('ServiceDesk3', '=', 0.0)\n",
      "('ServiceDesk4', '=', 0.0)\n",
      "('ServiceDesk5', '=', 0.0)\n",
      "('ServiceDesk6', '=', 0.0)\n",
      "('ServiceDesk7', '=', 0.0)\n",
      "('ServiceDesk8', '=', 0.0)\n",
      "('ServiceDesk9', '=', 0.0)\n",
      "('ServiceDesk910', '=', 0.0)\n",
      "('ServiceDesk911', '=', 0.0)\n",
      "('ServiceDesk912', '=', 0.0)\n",
      "('ServiceDesk913', '=', 0.0)\n",
      "('ServiceDesk914', '=', 0.0)\n",
      "('ServiceDesk915', '=', 0.0)\n",
      "[ 10.]\n",
      "('Status:', 'Optimal')\n",
      "('Total labor Cost the next 10 minutes = ', 20.0)\n",
      "('ServiceDesk1', '=', 0.0)\n",
      "('ServiceDesk2', '=', 0.0)\n",
      "('ServiceDesk3', '=', 0.0)\n",
      "('ServiceDesk4', '=', 0.0)\n",
      "('ServiceDesk5', '=', 0.0)\n",
      "('ServiceDesk6', '=', 0.0)\n",
      "('ServiceDesk7', '=', 0.0)\n",
      "('ServiceDesk8', '=', 0.0)\n",
      "('ServiceDesk9', '=', 0.0)\n",
      "('ServiceDesk910', '=', 0.0)\n",
      "('ServiceDesk911', '=', 0.0)\n",
      "('ServiceDesk912', '=', 0.0)\n",
      "('ServiceDesk913', '=', 0.0)\n",
      "('ServiceDesk914', '=', 0.0)\n",
      "('ServiceDesk915', '=', 1.0)\n",
      "[ 10.]\n",
      "('Status:', 'Optimal')\n",
      "('Total labor Cost the next 10 minutes = ', 20.0)\n",
      "('ServiceDesk1', '=', 0.0)\n",
      "('ServiceDesk2', '=', 0.0)\n",
      "('ServiceDesk3', '=', 0.0)\n",
      "('ServiceDesk4', '=', 0.0)\n",
      "('ServiceDesk5', '=', 0.0)\n",
      "('ServiceDesk6', '=', 0.0)\n",
      "('ServiceDesk7', '=', 0.0)\n",
      "('ServiceDesk8', '=', 0.0)\n",
      "('ServiceDesk9', '=', 0.0)\n",
      "('ServiceDesk910', '=', 0.0)\n",
      "('ServiceDesk911', '=', 0.0)\n",
      "('ServiceDesk912', '=', 0.0)\n",
      "('ServiceDesk913', '=', 0.0)\n",
      "('ServiceDesk914', '=', 0.0)\n",
      "('ServiceDesk915', '=', 1.0)\n",
      "[ 100.]\n",
      "('Status:', 'Optimal')\n",
      "('Total labor Cost the next 10 minutes = ', 100.0)\n",
      "('ServiceDesk1', '=', 1.0)\n",
      "('ServiceDesk2', '=', 1.0)\n",
      "('ServiceDesk3', '=', 1.0)\n",
      "('ServiceDesk4', '=', 1.0)\n",
      "('ServiceDesk5', '=', 1.0)\n",
      "('ServiceDesk6', '=', 0.0)\n",
      "('ServiceDesk7', '=', 0.0)\n",
      "('ServiceDesk8', '=', 0.0)\n",
      "('ServiceDesk9', '=', 0.0)\n",
      "('ServiceDesk910', '=', 0.0)\n",
      "('ServiceDesk911', '=', 0.0)\n",
      "('ServiceDesk912', '=', 0.0)\n",
      "('ServiceDesk913', '=', 0.0)\n",
      "('ServiceDesk914', '=', 0.0)\n",
      "('ServiceDesk915', '=', 0.0)\n",
      "[ 130.]\n",
      "('Status:', 'Optimal')\n",
      "('Total labor Cost the next 10 minutes = ', 140.0)\n",
      "('ServiceDesk1', '=', 1.0)\n",
      "('ServiceDesk2', '=', 1.0)\n",
      "('ServiceDesk3', '=', 1.0)\n",
      "('ServiceDesk4', '=', 1.0)\n",
      "('ServiceDesk5', '=', 1.0)\n",
      "('ServiceDesk6', '=', 1.0)\n",
      "('ServiceDesk7', '=', 1.0)\n",
      "('ServiceDesk8', '=', 0.0)\n",
      "('ServiceDesk9', '=', 0.0)\n",
      "('ServiceDesk910', '=', 0.0)\n",
      "('ServiceDesk911', '=', 0.0)\n",
      "('ServiceDesk912', '=', 0.0)\n",
      "('ServiceDesk913', '=', 0.0)\n",
      "('ServiceDesk914', '=', 0.0)\n",
      "('ServiceDesk915', '=', 0.0)\n",
      "[ 140.]\n",
      "('Status:', 'Optimal')\n",
      "('Total labor Cost the next 10 minutes = ', 140.0)\n",
      "('ServiceDesk1', '=', 1.0)\n",
      "('ServiceDesk2', '=', 1.0)\n",
      "('ServiceDesk3', '=', 1.0)\n",
      "('ServiceDesk4', '=', 1.0)\n",
      "('ServiceDesk5', '=', 1.0)\n",
      "('ServiceDesk6', '=', 1.0)\n",
      "('ServiceDesk7', '=', 1.0)\n",
      "('ServiceDesk8', '=', 0.0)\n",
      "('ServiceDesk9', '=', 0.0)\n",
      "('ServiceDesk910', '=', 0.0)\n",
      "('ServiceDesk911', '=', 0.0)\n",
      "('ServiceDesk912', '=', 0.0)\n",
      "('ServiceDesk913', '=', 0.0)\n",
      "('ServiceDesk914', '=', 0.0)\n",
      "('ServiceDesk915', '=', 0.0)\n",
      "[ 150.]\n",
      "('Status:', 'Optimal')\n",
      "('Total labor Cost the next 10 minutes = ', 160.0)\n",
      "('ServiceDesk1', '=', 1.0)\n",
      "('ServiceDesk2', '=', 1.0)\n",
      "('ServiceDesk3', '=', 1.0)\n",
      "('ServiceDesk4', '=', 1.0)\n",
      "('ServiceDesk5', '=', 1.0)\n",
      "('ServiceDesk6', '=', 1.0)\n",
      "('ServiceDesk7', '=', 1.0)\n",
      "('ServiceDesk8', '=', 1.0)\n",
      "('ServiceDesk9', '=', 0.0)\n",
      "('ServiceDesk910', '=', 0.0)\n",
      "('ServiceDesk911', '=', 0.0)\n",
      "('ServiceDesk912', '=', 0.0)\n",
      "('ServiceDesk913', '=', 0.0)\n",
      "('ServiceDesk914', '=', 0.0)\n",
      "('ServiceDesk915', '=', 0.0)\n",
      "[ 140.]\n",
      "('Status:', 'Optimal')\n",
      "('Total labor Cost the next 10 minutes = ', 140.0)\n",
      "('ServiceDesk1', '=', 1.0)\n",
      "('ServiceDesk2', '=', 1.0)\n",
      "('ServiceDesk3', '=', 1.0)\n",
      "('ServiceDesk4', '=', 1.0)\n",
      "('ServiceDesk5', '=', 1.0)\n",
      "('ServiceDesk6', '=', 1.0)\n",
      "('ServiceDesk7', '=', 1.0)\n",
      "('ServiceDesk8', '=', 0.0)\n",
      "('ServiceDesk9', '=', 0.0)\n",
      "('ServiceDesk910', '=', 0.0)\n",
      "('ServiceDesk911', '=', 0.0)\n",
      "('ServiceDesk912', '=', 0.0)\n",
      "('ServiceDesk913', '=', 0.0)\n",
      "('ServiceDesk914', '=', 0.0)\n",
      "('ServiceDesk915', '=', 0.0)\n",
      "[ 130.]\n",
      "('Status:', 'Optimal')\n",
      "('Total labor Cost the next 10 minutes = ', 140.0)\n",
      "('ServiceDesk1', '=', 1.0)\n",
      "('ServiceDesk2', '=', 1.0)\n",
      "('ServiceDesk3', '=', 1.0)\n",
      "('ServiceDesk4', '=', 1.0)\n",
      "('ServiceDesk5', '=', 1.0)\n",
      "('ServiceDesk6', '=', 1.0)\n",
      "('ServiceDesk7', '=', 1.0)\n",
      "('ServiceDesk8', '=', 0.0)\n",
      "('ServiceDesk9', '=', 0.0)\n",
      "('ServiceDesk910', '=', 0.0)\n",
      "('ServiceDesk911', '=', 0.0)\n",
      "('ServiceDesk912', '=', 0.0)\n",
      "('ServiceDesk913', '=', 0.0)\n",
      "('ServiceDesk914', '=', 0.0)\n",
      "('ServiceDesk915', '=', 0.0)\n",
      "[ 130.]\n",
      "('Status:', 'Optimal')\n",
      "('Total labor Cost the next 10 minutes = ', 140.0)\n",
      "('ServiceDesk1', '=', 1.0)\n",
      "('ServiceDesk2', '=', 1.0)\n",
      "('ServiceDesk3', '=', 1.0)\n",
      "('ServiceDesk4', '=', 1.0)\n",
      "('ServiceDesk5', '=', 1.0)\n",
      "('ServiceDesk6', '=', 1.0)\n",
      "('ServiceDesk7', '=', 1.0)\n",
      "('ServiceDesk8', '=', 0.0)\n",
      "('ServiceDesk9', '=', 0.0)\n",
      "('ServiceDesk910', '=', 0.0)\n",
      "('ServiceDesk911', '=', 0.0)\n",
      "('ServiceDesk912', '=', 0.0)\n",
      "('ServiceDesk913', '=', 0.0)\n",
      "('ServiceDesk914', '=', 0.0)\n",
      "('ServiceDesk915', '=', 0.0)\n",
      "[ 130.]\n",
      "('Status:', 'Optimal')\n",
      "('Total labor Cost the next 10 minutes = ', 140.0)\n",
      "('ServiceDesk1', '=', 1.0)\n",
      "('ServiceDesk2', '=', 1.0)\n",
      "('ServiceDesk3', '=', 1.0)\n",
      "('ServiceDesk4', '=', 1.0)\n",
      "('ServiceDesk5', '=', 1.0)\n",
      "('ServiceDesk6', '=', 1.0)\n",
      "('ServiceDesk7', '=', 1.0)\n",
      "('ServiceDesk8', '=', 0.0)\n",
      "('ServiceDesk9', '=', 0.0)\n",
      "('ServiceDesk910', '=', 0.0)\n",
      "('ServiceDesk911', '=', 0.0)\n",
      "('ServiceDesk912', '=', 0.0)\n",
      "('ServiceDesk913', '=', 0.0)\n",
      "('ServiceDesk914', '=', 0.0)\n",
      "('ServiceDesk915', '=', 0.0)\n",
      "[ 130.]\n",
      "('Status:', 'Optimal')\n",
      "('Total labor Cost the next 10 minutes = ', 140.0)\n",
      "('ServiceDesk1', '=', 1.0)\n",
      "('ServiceDesk2', '=', 1.0)\n",
      "('ServiceDesk3', '=', 1.0)\n",
      "('ServiceDesk4', '=', 1.0)\n",
      "('ServiceDesk5', '=', 1.0)\n",
      "('ServiceDesk6', '=', 1.0)\n",
      "('ServiceDesk7', '=', 1.0)\n",
      "('ServiceDesk8', '=', 0.0)\n",
      "('ServiceDesk9', '=', 0.0)\n",
      "('ServiceDesk910', '=', 0.0)\n",
      "('ServiceDesk911', '=', 0.0)\n",
      "('ServiceDesk912', '=', 0.0)\n",
      "('ServiceDesk913', '=', 0.0)\n",
      "('ServiceDesk914', '=', 0.0)\n",
      "('ServiceDesk915', '=', 0.0)\n"
     ]
    }
   ],
   "source": [
    "#set up the list of forecasted values;\n",
    "LSTM_Forecast = np.floor(yhat_new)*10\n",
    "Results = []\n",
    "\n",
    "for i in LSTM_Forecast:\n",
    "    print(i)\n",
    "    Test_res = make_workplan(i)\n",
    "    Results.append(Test_res)\n",
    "    \n",
    "# Convert the list into a df;\n",
    "appended_data = pd.concat(Results, axis=0)\n",
    "\n",
    "#Inspect the results:\n",
    "appended_data[:30]\n",
    "\n",
    "appended_data.to_csv(path_or_buf=\"StaffingPlan.csv\", sep=',')"
   ]
  },
  {
   "cell_type": "code",
   "execution_count": null,
   "metadata": {
    "collapsed": true
   },
   "outputs": [],
   "source": []
  }
 ],
 "metadata": {
  "kernelspec": {
   "display_name": "Python 2",
   "language": "python",
   "name": "python2"
  },
  "language_info": {
   "codemirror_mode": {
    "name": "ipython",
    "version": 2
   },
   "file_extension": ".py",
   "mimetype": "text/x-python",
   "name": "python",
   "nbconvert_exporter": "python",
   "pygments_lexer": "ipython2",
   "version": "2.7.13"
  }
 },
 "nbformat": 4,
 "nbformat_minor": 2
}
